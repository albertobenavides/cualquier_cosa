{
  "nbformat": 4,
  "nbformat_minor": 0,
  "metadata": {
    "colab": {
      "provenance": [],
      "authorship_tag": "ABX9TyN25MnRvxsnQ4h171mK5RwE",
      "include_colab_link": true
    },
    "kernelspec": {
      "name": "python3",
      "display_name": "Python 3"
    },
    "language_info": {
      "name": "python"
    }
  },
  "cells": [
    {
      "cell_type": "markdown",
      "metadata": {
        "id": "view-in-github",
        "colab_type": "text"
      },
      "source": [
        "<a href=\"https://colab.research.google.com/github/albertobenavides/cualquier_cosa/blob/main/py_tutorial.ipynb\" target=\"_parent\"><img src=\"https://colab.research.google.com/assets/colab-badge.svg\" alt=\"Open In Colab\"/></a>"
      ]
    },
    {
      "cell_type": "markdown",
      "source": [
        "# Tutorial Python\n",
        "###### [Alberto Benavides](https://github.com/albertobenavides)\n",
        "\n",
        "Google Colab(oratory) es una herramienta que permite escribir celdas de código de Python y Markdown.\n",
        "\n",
        "Funciona de manera similar a los [Jupyter notebooks](https://jupyter.org/)."
      ],
      "metadata": {
        "id": "iZ8E3gMddr92"
      }
    },
    {
      "cell_type": "markdown",
      "source": [
        "## Atajos útiles (para mí)\n",
        "\n",
        "En modo edición:\n",
        "* `Ctrl+Espacio`: Muestra autocompletar\n",
        "* `Ctrl+M -`: Divide una celda en el cursor\n",
        "* `Ctrl+M [lo que quieran]`: Combinar una celda con la siguiente (Herramientas -> Configuración de teclas)\n",
        "* `Ctrl+/`: (Des)comenta la selección\n",
        "* `Ctrl+Enter`: Ejecutar celda seleccionada\n",
        "* `Esc`: Salir del modo edición de celda\n",
        "\n",
        "Fuera de modo edición:\n",
        "* `a`: Crea celda arriba\n",
        "* `b`: Crea celda abajo\n",
        "* `Arriba`: Selecciona celda superior\n",
        "* `Abajo`: Selecciona celda inferior\n",
        "* `Ctrl+M d`: Elimina celda seleccionada\n",
        "* `Ctrl+M M`: Convierte celda a Markdown\n",
        "* `Ctrl+M Y`: Convierte celda a código"
      ],
      "metadata": {
        "id": "D6xnWYOgjdBa"
      }
    },
    {
      "cell_type": "markdown",
      "source": [
        "## Comentarios"
      ],
      "metadata": {
        "id": "A8f0cCzpjfB2"
      }
    },
    {
      "cell_type": "code",
      "source": [
        "# Esto es un comentario\n",
        "\n",
        "\"\"\"\n",
        "¡Esto también!\n",
        "\"\"\"\n",
        "\n",
        "# Python ignora los comentarios (son sólo para humanos)"
      ],
      "metadata": {
        "id": "qF-ttd_eeX7y",
        "colab": {
          "base_uri": "https://localhost:8080/",
          "height": 36
        },
        "outputId": "3be26b26-3716-45f4-9745-ea16e8bb0108"
      },
      "execution_count": null,
      "outputs": [
        {
          "output_type": "execute_result",
          "data": {
            "text/plain": [
              "'\\n¡Esto también!\\n'"
            ],
            "application/vnd.google.colaboratory.intrinsic+json": {
              "type": "string"
            }
          },
          "metadata": {},
          "execution_count": 2
        }
      ]
    },
    {
      "cell_type": "markdown",
      "source": [
        "## Operadores y funciones matemáticas"
      ],
      "metadata": {
        "id": "cbyzh09WeldD"
      }
    },
    {
      "cell_type": "code",
      "source": [
        "# Suma\n",
        "1 + 4"
      ],
      "metadata": {
        "colab": {
          "base_uri": "https://localhost:8080/"
        },
        "id": "6vzIq1TYepuH",
        "outputId": "dc30ce9b-ab9e-4c7e-e0c3-69c94a1f8cd2"
      },
      "execution_count": null,
      "outputs": [
        {
          "output_type": "execute_result",
          "data": {
            "text/plain": [
              "5"
            ]
          },
          "metadata": {},
          "execution_count": 98
        }
      ]
    },
    {
      "cell_type": "code",
      "source": [
        "# Resta\n",
        "4 - 7"
      ],
      "metadata": {
        "colab": {
          "base_uri": "https://localhost:8080/"
        },
        "id": "zH7hK5AGes8B",
        "outputId": "5b993de6-bd50-45d0-a5ba-b8c59b8a2568"
      },
      "execution_count": null,
      "outputs": [
        {
          "output_type": "execute_result",
          "data": {
            "text/plain": [
              "-3"
            ]
          },
          "metadata": {},
          "execution_count": 99
        }
      ]
    },
    {
      "cell_type": "code",
      "source": [
        "# Multiplicación\n",
        "5 * 9"
      ],
      "metadata": {
        "colab": {
          "base_uri": "https://localhost:8080/"
        },
        "id": "swFbFeINevkI",
        "outputId": "af848a83-be11-4568-f25e-c197a95eba01"
      },
      "execution_count": null,
      "outputs": [
        {
          "output_type": "execute_result",
          "data": {
            "text/plain": [
              "45"
            ]
          },
          "metadata": {},
          "execution_count": 100
        }
      ]
    },
    {
      "cell_type": "code",
      "source": [
        "# División\n",
        "19 / 2"
      ],
      "metadata": {
        "colab": {
          "base_uri": "https://localhost:8080/"
        },
        "id": "7rOOD1a1eyQS",
        "outputId": "4bbc8417-091f-486e-c638-ab9fe0890ebe"
      },
      "execution_count": null,
      "outputs": [
        {
          "output_type": "execute_result",
          "data": {
            "text/plain": [
              "9.5"
            ]
          },
          "metadata": {},
          "execution_count": 101
        }
      ]
    },
    {
      "cell_type": "code",
      "source": [
        "# Potencia\n",
        "3 ** 2"
      ],
      "metadata": {
        "colab": {
          "base_uri": "https://localhost:8080/"
        },
        "id": "RlReEA9ze11-",
        "outputId": "fa712bd1-e261-48ca-d7cb-28835a4b541c"
      },
      "execution_count": null,
      "outputs": [
        {
          "output_type": "execute_result",
          "data": {
            "text/plain": [
              "9"
            ]
          },
          "metadata": {},
          "execution_count": 102
        }
      ]
    },
    {
      "cell_type": "code",
      "source": [
        "# Raíz\n",
        "16 ** 0.5"
      ],
      "metadata": {
        "colab": {
          "base_uri": "https://localhost:8080/"
        },
        "id": "TFFgwM67e8mG",
        "outputId": "f2e424aa-503b-4717-8921-ff8f889348a5"
      },
      "execution_count": null,
      "outputs": [
        {
          "output_type": "execute_result",
          "data": {
            "text/plain": [
              "4.0"
            ]
          },
          "metadata": {},
          "execution_count": 103
        }
      ]
    },
    {
      "cell_type": "code",
      "source": [
        "# Módulo\n",
        "5 % 2"
      ],
      "metadata": {
        "colab": {
          "base_uri": "https://localhost:8080/"
        },
        "id": "KAwcIhRsmAtz",
        "outputId": "fcb3880f-bfd2-4a3b-a3ec-73e4346cd691"
      },
      "execution_count": null,
      "outputs": [
        {
          "output_type": "execute_result",
          "data": {
            "text/plain": [
              "1"
            ]
          },
          "metadata": {},
          "execution_count": 104
        }
      ]
    },
    {
      "cell_type": "code",
      "source": [
        "# División con suelo\n",
        "5 // 2"
      ],
      "metadata": {
        "colab": {
          "base_uri": "https://localhost:8080/"
        },
        "id": "e_J98IgJmGFQ",
        "outputId": "785fe7ca-562f-4189-a205-41ffa017aba9"
      },
      "execution_count": null,
      "outputs": [
        {
          "output_type": "execute_result",
          "data": {
            "text/plain": [
              "2"
            ]
          },
          "metadata": {},
          "execution_count": 105
        }
      ]
    },
    {
      "cell_type": "code",
      "source": [
        "# Redondeo\n",
        "round(10 / 3, 4)"
      ],
      "metadata": {
        "colab": {
          "base_uri": "https://localhost:8080/"
        },
        "id": "A82Fyd_MfBTK",
        "outputId": "5e735b43-cab7-47c3-889a-d39d53763de7"
      },
      "execution_count": null,
      "outputs": [
        {
          "output_type": "execute_result",
          "data": {
            "text/plain": [
              "3.3333"
            ]
          },
          "metadata": {},
          "execution_count": 106
        }
      ]
    },
    {
      "cell_type": "code",
      "source": [
        "# Mínimo\n",
        "min(5, 2, 6)"
      ],
      "metadata": {
        "colab": {
          "base_uri": "https://localhost:8080/"
        },
        "id": "8CyRg6yiRE5L",
        "outputId": "7a91a123-b68f-41fd-b0fb-22525b2a83e7"
      },
      "execution_count": null,
      "outputs": [
        {
          "output_type": "execute_result",
          "data": {
            "text/plain": [
              "2"
            ]
          },
          "metadata": {},
          "execution_count": 107
        }
      ]
    },
    {
      "cell_type": "code",
      "source": [
        "# Máximo\n",
        "max(-1, -2, -3)"
      ],
      "metadata": {
        "colab": {
          "base_uri": "https://localhost:8080/"
        },
        "id": "OS9i2SzTRHmH",
        "outputId": "450455e1-6b8c-4059-edb0-d291b33e7535"
      },
      "execution_count": null,
      "outputs": [
        {
          "output_type": "execute_result",
          "data": {
            "text/plain": [
              "-1"
            ]
          },
          "metadata": {},
          "execution_count": 108
        }
      ]
    },
    {
      "cell_type": "code",
      "source": [
        "# Valor absoluto\n",
        "abs(-4)"
      ],
      "metadata": {
        "colab": {
          "base_uri": "https://localhost:8080/"
        },
        "id": "LSv5o_2aROfS",
        "outputId": "e6ae1b7f-2b12-4b50-d38b-4b5fd13ea80c"
      },
      "execution_count": null,
      "outputs": [
        {
          "output_type": "execute_result",
          "data": {
            "text/plain": [
              "4"
            ]
          },
          "metadata": {},
          "execution_count": 109
        }
      ]
    },
    {
      "cell_type": "code",
      "source": [
        "# Potencia\n",
        "pow(3, 2)"
      ],
      "metadata": {
        "colab": {
          "base_uri": "https://localhost:8080/"
        },
        "id": "XOC0mHR4RTqY",
        "outputId": "7287cbba-62cb-4491-afe3-4be4f52f8e90"
      },
      "execution_count": null,
      "outputs": [
        {
          "output_type": "execute_result",
          "data": {
            "text/plain": [
              "9"
            ]
          },
          "metadata": {},
          "execution_count": 7
        }
      ]
    },
    {
      "cell_type": "markdown",
      "source": [
        "## [Operadores lógicos](https://realpython.com/python-bitwise-operators/)\n",
        "\n",
        "$3_{10} = 011_2$\n",
        "\n",
        "$5_{10} = 101_2$"
      ],
      "metadata": {
        "id": "MDCRQG7Em_xO"
      }
    },
    {
      "cell_type": "code",
      "source": [
        "3 & 5"
      ],
      "metadata": {
        "colab": {
          "base_uri": "https://localhost:8080/"
        },
        "id": "ML83hZcNnBHI",
        "outputId": "1f1ea359-3419-43f2-c88f-c240b2d0c06b"
      },
      "execution_count": null,
      "outputs": [
        {
          "output_type": "execute_result",
          "data": {
            "text/plain": [
              "1"
            ]
          },
          "metadata": {},
          "execution_count": 111
        }
      ]
    },
    {
      "cell_type": "code",
      "source": [
        "3 | 5"
      ],
      "metadata": {
        "colab": {
          "base_uri": "https://localhost:8080/"
        },
        "id": "1mKfO6rHn8ll",
        "outputId": "9580050d-2263-430c-c2b5-42a0435f986b"
      },
      "execution_count": null,
      "outputs": [
        {
          "output_type": "execute_result",
          "data": {
            "text/plain": [
              "7"
            ]
          },
          "metadata": {},
          "execution_count": 112
        }
      ]
    },
    {
      "cell_type": "markdown",
      "source": [
        "XOR: Diferentes son $1$, iguales $0$"
      ],
      "metadata": {
        "id": "xlHWcskyq7dq"
      }
    },
    {
      "cell_type": "code",
      "source": [
        "3 ^ 5"
      ],
      "metadata": {
        "colab": {
          "base_uri": "https://localhost:8080/"
        },
        "id": "jlMaDB5Pqvtn",
        "outputId": "4b9fa477-357f-4a9b-ddb5-0468f59b3147"
      },
      "execution_count": null,
      "outputs": [
        {
          "output_type": "execute_result",
          "data": {
            "text/plain": [
              "6"
            ]
          },
          "metadata": {},
          "execution_count": 113
        }
      ]
    },
    {
      "cell_type": "markdown",
      "source": [
        "$\\lnot 101 = 1 - 101$"
      ],
      "metadata": {
        "id": "rLSTK7ccoPbx"
      }
    },
    {
      "cell_type": "code",
      "source": [
        "~5 & 255"
      ],
      "metadata": {
        "colab": {
          "base_uri": "https://localhost:8080/"
        },
        "id": "6ETU33fZnhNO",
        "outputId": "156ab63e-1647-4352-8782-b65e944f12d7"
      },
      "execution_count": null,
      "outputs": [
        {
          "output_type": "execute_result",
          "data": {
            "text/plain": [
              "250"
            ]
          },
          "metadata": {},
          "execution_count": 114
        }
      ]
    },
    {
      "cell_type": "markdown",
      "source": [
        "$11_2 \\ll 3_{10} = 11_2 \\times 2^3$"
      ],
      "metadata": {
        "id": "QdeahXs8o8Eu"
      }
    },
    {
      "cell_type": "code",
      "source": [
        "3 << 3"
      ],
      "metadata": {
        "colab": {
          "base_uri": "https://localhost:8080/"
        },
        "id": "y0moBmLMo4a5",
        "outputId": "3bca4267-0b28-4cbe-e20d-856c25ea5553"
      },
      "execution_count": null,
      "outputs": [
        {
          "output_type": "execute_result",
          "data": {
            "text/plain": [
              "24"
            ]
          },
          "metadata": {},
          "execution_count": 115
        }
      ]
    },
    {
      "cell_type": "markdown",
      "source": [
        "$11110_2 \\gg 3_{10} = \\frac{11110_2}{\\lfloor 2^3 \\rfloor}$"
      ],
      "metadata": {
        "id": "iN6Gbk6Opzyz"
      }
    },
    {
      "cell_type": "code",
      "source": [
        "30 >> 3"
      ],
      "metadata": {
        "colab": {
          "base_uri": "https://localhost:8080/"
        },
        "outputId": "14401080-ea6c-41e0-f436-a914543ce963",
        "id": "DlvGNGNXpzyz"
      },
      "execution_count": null,
      "outputs": [
        {
          "output_type": "execute_result",
          "data": {
            "text/plain": [
              "3"
            ]
          },
          "metadata": {},
          "execution_count": 116
        }
      ]
    },
    {
      "cell_type": "markdown",
      "source": [
        "## Operadores de comparación"
      ],
      "metadata": {
        "id": "92jR_rRSrTQG"
      }
    },
    {
      "cell_type": "code",
      "source": [
        "3 == 4"
      ],
      "metadata": {
        "colab": {
          "base_uri": "https://localhost:8080/"
        },
        "id": "-SlVN4LwrVBQ",
        "outputId": "bb8e571e-d061-4b40-bb74-52101c7d0268"
      },
      "execution_count": null,
      "outputs": [
        {
          "output_type": "execute_result",
          "data": {
            "text/plain": [
              "False"
            ]
          },
          "metadata": {},
          "execution_count": 11
        }
      ]
    },
    {
      "cell_type": "code",
      "source": [
        "5 != 13"
      ],
      "metadata": {
        "colab": {
          "base_uri": "https://localhost:8080/"
        },
        "id": "stxtTCl3rWlp",
        "outputId": "9fab5612-5e80-4fa6-9cce-b4e3503b05db"
      },
      "execution_count": null,
      "outputs": [
        {
          "output_type": "execute_result",
          "data": {
            "text/plain": [
              "True"
            ]
          },
          "metadata": {},
          "execution_count": 12
        }
      ]
    },
    {
      "cell_type": "code",
      "source": [
        "3 > 4"
      ],
      "metadata": {
        "colab": {
          "base_uri": "https://localhost:8080/"
        },
        "id": "r4snsvq0rYr0",
        "outputId": "878a2cec-818d-4e22-9a38-b98b3857f70f"
      },
      "execution_count": null,
      "outputs": [
        {
          "output_type": "execute_result",
          "data": {
            "text/plain": [
              "False"
            ]
          },
          "metadata": {},
          "execution_count": 119
        }
      ]
    },
    {
      "cell_type": "code",
      "source": [
        "5 < 3"
      ],
      "metadata": {
        "colab": {
          "base_uri": "https://localhost:8080/"
        },
        "id": "PcGNKT2praNS",
        "outputId": "352878f0-37a9-470b-96dd-624ca4f723a9"
      },
      "execution_count": null,
      "outputs": [
        {
          "output_type": "execute_result",
          "data": {
            "text/plain": [
              "False"
            ]
          },
          "metadata": {},
          "execution_count": 120
        }
      ]
    },
    {
      "cell_type": "code",
      "source": [
        "5 <= 5"
      ],
      "metadata": {
        "colab": {
          "base_uri": "https://localhost:8080/"
        },
        "id": "zCuFFuxirctO",
        "outputId": "720f3cfc-4427-4b49-eb6b-20d8cc290d57"
      },
      "execution_count": null,
      "outputs": [
        {
          "output_type": "execute_result",
          "data": {
            "text/plain": [
              "True"
            ]
          },
          "metadata": {},
          "execution_count": 121
        }
      ]
    },
    {
      "cell_type": "code",
      "source": [
        "4 >= 1"
      ],
      "metadata": {
        "colab": {
          "base_uri": "https://localhost:8080/"
        },
        "id": "P5ayB81ArejX",
        "outputId": "039e1782-8f3a-466d-d0ac-cd40915eacab"
      },
      "execution_count": null,
      "outputs": [
        {
          "output_type": "execute_result",
          "data": {
            "text/plain": [
              "True"
            ]
          },
          "metadata": {},
          "execution_count": 122
        }
      ]
    },
    {
      "cell_type": "markdown",
      "source": [
        "## Variables"
      ],
      "metadata": {
        "id": "Cqn0p5YkfyLC"
      }
    },
    {
      "cell_type": "code",
      "source": [
        "entero = 1\n",
        "flotante = 1.0\n",
        "booleano = True\n",
        "cadena = '1'"
      ],
      "metadata": {
        "id": "Rq3wZCUxgmim"
      },
      "execution_count": null,
      "outputs": []
    },
    {
      "cell_type": "markdown",
      "source": [
        "## Asignación"
      ],
      "metadata": {
        "id": "9dR88wScl1_7"
      }
    },
    {
      "cell_type": "code",
      "source": [
        "a = 1\n",
        "a"
      ],
      "metadata": {
        "colab": {
          "base_uri": "https://localhost:8080/"
        },
        "id": "ehG_qAnAl4xl",
        "outputId": "654dcfbd-a990-4e4e-ac93-79b7a725d055"
      },
      "execution_count": null,
      "outputs": [
        {
          "output_type": "execute_result",
          "data": {
            "text/plain": [
              "1"
            ]
          },
          "metadata": {},
          "execution_count": 15
        }
      ]
    },
    {
      "cell_type": "code",
      "source": [
        "a += 3\n",
        "a"
      ],
      "metadata": {
        "colab": {
          "base_uri": "https://localhost:8080/"
        },
        "id": "80DiuYDPmSpV",
        "outputId": "6699f103-cf21-4577-fb1b-7d5010aab423"
      },
      "execution_count": null,
      "outputs": [
        {
          "output_type": "execute_result",
          "data": {
            "text/plain": [
              "4"
            ]
          },
          "metadata": {},
          "execution_count": 125
        }
      ]
    },
    {
      "cell_type": "code",
      "source": [
        "a -= 5\n",
        "a"
      ],
      "metadata": {
        "colab": {
          "base_uri": "https://localhost:8080/"
        },
        "id": "wD1Gyk8amV32",
        "outputId": "a40996fb-4ed3-46fb-f552-adc9477fdba2"
      },
      "execution_count": null,
      "outputs": [
        {
          "output_type": "execute_result",
          "data": {
            "text/plain": [
              "-1"
            ]
          },
          "metadata": {},
          "execution_count": 126
        }
      ]
    },
    {
      "cell_type": "code",
      "source": [
        "a *= 15\n",
        "a"
      ],
      "metadata": {
        "colab": {
          "base_uri": "https://localhost:8080/"
        },
        "id": "HZ3Du-mcmZf1",
        "outputId": "8fa67655-249c-4bc1-f4da-e94bfa86fbf5"
      },
      "execution_count": null,
      "outputs": [
        {
          "output_type": "execute_result",
          "data": {
            "text/plain": [
              "-15"
            ]
          },
          "metadata": {},
          "execution_count": 127
        }
      ]
    },
    {
      "cell_type": "markdown",
      "source": [
        "## Conversión entre tipos de datos"
      ],
      "metadata": {
        "id": "FA_IiXZkgu3t"
      }
    },
    {
      "cell_type": "code",
      "source": [
        "float(entero)"
      ],
      "metadata": {
        "colab": {
          "base_uri": "https://localhost:8080/"
        },
        "id": "LvCOP225gytU",
        "outputId": "e4b54efa-cb01-4d36-b3c8-5698148ccc86"
      },
      "execution_count": null,
      "outputs": [
        {
          "output_type": "execute_result",
          "data": {
            "text/plain": [
              "1.0"
            ]
          },
          "metadata": {},
          "execution_count": 128
        }
      ]
    },
    {
      "cell_type": "code",
      "source": [
        "int(cadena)"
      ],
      "metadata": {
        "colab": {
          "base_uri": "https://localhost:8080/"
        },
        "id": "kNaRNvM0g13Y",
        "outputId": "1b06f25d-1df4-4f1e-fbe1-e788743e564d"
      },
      "execution_count": null,
      "outputs": [
        {
          "output_type": "execute_result",
          "data": {
            "text/plain": [
              "1"
            ]
          },
          "metadata": {},
          "execution_count": 129
        }
      ]
    },
    {
      "cell_type": "code",
      "source": [
        "bool(flotante)"
      ],
      "metadata": {
        "colab": {
          "base_uri": "https://localhost:8080/"
        },
        "id": "Ypi8Z0wcg3rx",
        "outputId": "8263f6dd-e593-4f0e-bcc6-69cbbb93c265"
      },
      "execution_count": null,
      "outputs": [
        {
          "output_type": "execute_result",
          "data": {
            "text/plain": [
              "True"
            ]
          },
          "metadata": {},
          "execution_count": 130
        }
      ]
    },
    {
      "cell_type": "code",
      "source": [
        "str(booleano)"
      ],
      "metadata": {
        "colab": {
          "base_uri": "https://localhost:8080/",
          "height": 36
        },
        "id": "kv_E9VIKhDjm",
        "outputId": "54555b36-0c1e-4284-958d-dcb31990c478"
      },
      "execution_count": null,
      "outputs": [
        {
          "output_type": "execute_result",
          "data": {
            "text/plain": [
              "'True'"
            ],
            "application/vnd.google.colaboratory.intrinsic+json": {
              "type": "string"
            }
          },
          "metadata": {},
          "execution_count": 131
        }
      ]
    },
    {
      "cell_type": "markdown",
      "source": [
        "## Operaciones con cadenas"
      ],
      "metadata": {
        "id": "ex1Ip06qkUsn"
      }
    },
    {
      "cell_type": "code",
      "source": [
        "abecedario = 'abcdefghijklmnñopqrstuvwxyz'"
      ],
      "metadata": {
        "id": "qHr37cthkYhk"
      },
      "execution_count": null,
      "outputs": []
    },
    {
      "cell_type": "code",
      "source": [
        "# Primer elemento\n",
        "abecedario[0]"
      ],
      "metadata": {
        "colab": {
          "base_uri": "https://localhost:8080/",
          "height": 36
        },
        "id": "djONYLLNkent",
        "outputId": "9b994960-0213-4ac3-e80f-a4c02b71aeea"
      },
      "execution_count": null,
      "outputs": [
        {
          "output_type": "execute_result",
          "data": {
            "text/plain": [
              "'a'"
            ],
            "application/vnd.google.colaboratory.intrinsic+json": {
              "type": "string"
            }
          },
          "metadata": {},
          "execution_count": 133
        }
      ]
    },
    {
      "cell_type": "code",
      "source": [
        "# Último elemento\n",
        "abecedario[-1]"
      ],
      "metadata": {
        "colab": {
          "base_uri": "https://localhost:8080/",
          "height": 36
        },
        "id": "kLAwRZJDkiU5",
        "outputId": "b8807cc8-31ac-4625-c8de-75d3ff0fed19"
      },
      "execution_count": null,
      "outputs": [
        {
          "output_type": "execute_result",
          "data": {
            "text/plain": [
              "'z'"
            ],
            "application/vnd.google.colaboratory.intrinsic+json": {
              "type": "string"
            }
          },
          "metadata": {},
          "execution_count": 134
        }
      ]
    },
    {
      "cell_type": "code",
      "source": [
        "# Primeras tres letras\n",
        "abecedario[0:3]"
      ],
      "metadata": {
        "colab": {
          "base_uri": "https://localhost:8080/",
          "height": 36
        },
        "id": "Ey3A8aqnktF1",
        "outputId": "e8ff9080-8aa0-48ba-b8a7-23c1622521ff"
      },
      "execution_count": null,
      "outputs": [
        {
          "output_type": "execute_result",
          "data": {
            "text/plain": [
              "'abc'"
            ],
            "application/vnd.google.colaboratory.intrinsic+json": {
              "type": "string"
            }
          },
          "metadata": {},
          "execution_count": 135
        }
      ]
    },
    {
      "cell_type": "code",
      "source": [
        "# Cada dos letras\n",
        "abecedario[::2]"
      ],
      "metadata": {
        "colab": {
          "base_uri": "https://localhost:8080/",
          "height": 36
        },
        "id": "SKpB8uHXk0S-",
        "outputId": "68a24053-a187-43ca-dc3d-9624c172ce7f"
      },
      "execution_count": null,
      "outputs": [
        {
          "output_type": "execute_result",
          "data": {
            "text/plain": [
              "'acegikmñprtvxz'"
            ],
            "application/vnd.google.colaboratory.intrinsic+json": {
              "type": "string"
            }
          },
          "metadata": {},
          "execution_count": 19
        }
      ]
    },
    {
      "cell_type": "code",
      "source": [
        "# Al revés\n",
        "abecedario[::-1]"
      ],
      "metadata": {
        "colab": {
          "base_uri": "https://localhost:8080/",
          "height": 36
        },
        "id": "3uH7VNlylDAN",
        "outputId": "6d1c502f-581a-476f-f899-36258ee16796"
      },
      "execution_count": null,
      "outputs": [
        {
          "output_type": "execute_result",
          "data": {
            "text/plain": [
              "'zyxwvutsrqpoñnmlkjihgfedcba'"
            ],
            "application/vnd.google.colaboratory.intrinsic+json": {
              "type": "string"
            }
          },
          "metadata": {},
          "execution_count": 20
        }
      ]
    },
    {
      "cell_type": "code",
      "source": [
        "# Entre otros https://docs.python.org/3/library/stdtypes.html#string-methods\n",
        "abecedario.upper()"
      ],
      "metadata": {
        "colab": {
          "base_uri": "https://localhost:8080/",
          "height": 36
        },
        "id": "Igg5BVqblRpk",
        "outputId": "53dd6cef-4d67-4edc-c196-c6423461e8f3"
      },
      "execution_count": null,
      "outputs": [
        {
          "output_type": "execute_result",
          "data": {
            "text/plain": [
              "'ABCDEFGHIJKLMNÑOPQRSTUVWXYZ'"
            ],
            "application/vnd.google.colaboratory.intrinsic+json": {
              "type": "string"
            }
          },
          "metadata": {},
          "execution_count": 138
        }
      ]
    },
    {
      "cell_type": "markdown",
      "source": [
        "## Listas"
      ],
      "metadata": {
        "id": "yLO1S6WrlmJL"
      }
    },
    {
      "cell_type": "code",
      "source": [
        "# Crear lista\n",
        "a = list((1, 2, 3))\n",
        "a"
      ],
      "metadata": {
        "colab": {
          "base_uri": "https://localhost:8080/"
        },
        "id": "REw3dq26O8SP",
        "outputId": "24d6ef3f-a065-4402-d090-349ec61bd8cb"
      },
      "execution_count": null,
      "outputs": [
        {
          "output_type": "execute_result",
          "data": {
            "text/plain": [
              "[1, 2, 3]"
            ]
          },
          "metadata": {},
          "execution_count": 139
        }
      ]
    },
    {
      "cell_type": "code",
      "source": [
        "# Equivalente\n",
        "a = [1, 2, 3]\n",
        "a"
      ],
      "metadata": {
        "colab": {
          "base_uri": "https://localhost:8080/"
        },
        "id": "oqlpuuRnPJZn",
        "outputId": "a1acc0e0-3c7e-44d0-cfed-c1e044965929"
      },
      "execution_count": null,
      "outputs": [
        {
          "output_type": "execute_result",
          "data": {
            "text/plain": [
              "[1, 2, 3]"
            ]
          },
          "metadata": {},
          "execution_count": 140
        }
      ]
    },
    {
      "cell_type": "code",
      "source": [
        "lista_vacía = []\n",
        "lista_vacía"
      ],
      "metadata": {
        "colab": {
          "base_uri": "https://localhost:8080/"
        },
        "id": "OfliSp-XOyW7",
        "outputId": "e34796b3-9163-4ef1-f454-6ed010a9be0d"
      },
      "execution_count": null,
      "outputs": [
        {
          "output_type": "execute_result",
          "data": {
            "text/plain": [
              "[]"
            ]
          },
          "metadata": {},
          "execution_count": 141
        }
      ]
    },
    {
      "cell_type": "code",
      "source": [
        "# Una lista cualquiera\n",
        "a = [1, 2, 3, 1, 5, 6]\n",
        "a"
      ],
      "metadata": {
        "colab": {
          "base_uri": "https://localhost:8080/"
        },
        "id": "z31Wbf4alnfU",
        "outputId": "a77e8ecc-482b-4ca4-95d2-0003e6a3e7ee"
      },
      "execution_count": null,
      "outputs": [
        {
          "output_type": "execute_result",
          "data": {
            "text/plain": [
              "[1, 2, 3, 1, 5, 6]"
            ]
          },
          "metadata": {},
          "execution_count": 21
        }
      ]
    },
    {
      "cell_type": "code",
      "source": [
        "# Cantidad de elementos\n",
        "len(a)"
      ],
      "metadata": {
        "colab": {
          "base_uri": "https://localhost:8080/"
        },
        "id": "QBy1sXfTM8Bp",
        "outputId": "bce154de-e9f7-41a0-8eb0-325851089296"
      },
      "execution_count": null,
      "outputs": [
        {
          "output_type": "execute_result",
          "data": {
            "text/plain": [
              "6"
            ]
          },
          "metadata": {},
          "execution_count": 22
        }
      ]
    },
    {
      "cell_type": "code",
      "source": [
        "# Acceso a elementos\n",
        "a[0]"
      ],
      "metadata": {
        "colab": {
          "base_uri": "https://localhost:8080/"
        },
        "id": "_NVqtfhONNLw",
        "outputId": "28c2b3bb-7f1b-4466-908f-c1579988252e"
      },
      "execution_count": null,
      "outputs": [
        {
          "output_type": "execute_result",
          "data": {
            "text/plain": [
              "1"
            ]
          },
          "metadata": {},
          "execution_count": 23
        }
      ]
    },
    {
      "cell_type": "code",
      "source": [
        "# Actualización de un elemento\n",
        "a[0] = -1\n",
        "a"
      ],
      "metadata": {
        "colab": {
          "base_uri": "https://localhost:8080/"
        },
        "id": "YyvDJ056NQZk",
        "outputId": "8a8f60d5-dacd-42ba-ede8-efe53ad433d8"
      },
      "execution_count": null,
      "outputs": [
        {
          "output_type": "execute_result",
          "data": {
            "text/plain": [
              "[-1, 2, 3, 1, 5, 6]"
            ]
          },
          "metadata": {},
          "execution_count": 24
        }
      ]
    },
    {
      "cell_type": "code",
      "source": [
        "# Actualización de rango de elementos elementos\n",
        "a[1:3] = [-2, -3]\n",
        "a"
      ],
      "metadata": {
        "colab": {
          "base_uri": "https://localhost:8080/"
        },
        "id": "woOSIZVJNZcs",
        "outputId": "cbadedab-249d-4b4e-c1ea-80582963dfc0"
      },
      "execution_count": null,
      "outputs": [
        {
          "output_type": "execute_result",
          "data": {
            "text/plain": [
              "[-1, -2, -3, 5, 6]"
            ]
          },
          "metadata": {},
          "execution_count": 26
        }
      ]
    },
    {
      "cell_type": "code",
      "source": [
        "# Agregar al final\n",
        "a.append(10)\n",
        "a"
      ],
      "metadata": {
        "colab": {
          "base_uri": "https://localhost:8080/"
        },
        "id": "toUupahGNr5F",
        "outputId": "fe48cd3b-b44b-4617-e29e-ec2ca932551d"
      },
      "execution_count": null,
      "outputs": [
        {
          "output_type": "execute_result",
          "data": {
            "text/plain": [
              "[-1, -2, -3, 5, 6, 10, 10, 10, 10]"
            ]
          },
          "metadata": {},
          "execution_count": 30
        }
      ]
    },
    {
      "cell_type": "code",
      "source": [
        "# Antes de cierto índice\n",
        "a.insert(3, -4)\n",
        "a"
      ],
      "metadata": {
        "colab": {
          "base_uri": "https://localhost:8080/"
        },
        "id": "aTxdcv5VNzOL",
        "outputId": "7a71e5dd-f007-415e-b4d5-e6d78d17fd7d"
      },
      "execution_count": null,
      "outputs": [
        {
          "output_type": "execute_result",
          "data": {
            "text/plain": [
              "[-1, -2, -3, -4, -4, 5, 6, 10, 10, 10, 10]"
            ]
          },
          "metadata": {},
          "execution_count": 32
        }
      ]
    },
    {
      "cell_type": "code",
      "source": [
        "# Agregar elementos de otra lista\n",
        "b = ['uno', 'dos', 'tres']\n",
        "a.extend(b)\n",
        "a"
      ],
      "metadata": {
        "colab": {
          "base_uri": "https://localhost:8080/"
        },
        "id": "7uA0JsCMOF74",
        "outputId": "b7b23465-f1e8-4f1d-e27a-d5c58fcd5766"
      },
      "execution_count": null,
      "outputs": [
        {
          "output_type": "execute_result",
          "data": {
            "text/plain": [
              "[-1, -2, -3, -4, -4, 5, 6, 10, 10, 10, 10, 'uno', 'dos', 'tres']"
            ]
          },
          "metadata": {},
          "execution_count": 33
        }
      ]
    },
    {
      "cell_type": "code",
      "source": [
        "# Eliminar elementos\n",
        "a.remove('tres')\n",
        "a"
      ],
      "metadata": {
        "colab": {
          "base_uri": "https://localhost:8080/"
        },
        "id": "w9M2UDlXOSge",
        "outputId": "16c6e8a9-71b3-4f77-d963-1fb76ce49e6d"
      },
      "execution_count": null,
      "outputs": [
        {
          "output_type": "execute_result",
          "data": {
            "text/plain": [
              "[-1, -2, -3, -4, -4, 5, 6, 10, 10, 10, 10, 'uno', 'dos']"
            ]
          },
          "metadata": {},
          "execution_count": 34
        }
      ]
    },
    {
      "cell_type": "code",
      "source": [
        "# Eliminar el último elemento\n",
        "a.pop()\n",
        "a"
      ],
      "metadata": {
        "colab": {
          "base_uri": "https://localhost:8080/"
        },
        "id": "2goNvVC_OX8D",
        "outputId": "e3a163a1-b027-4c56-e0a8-dd527db101ac"
      },
      "execution_count": null,
      "outputs": [
        {
          "output_type": "execute_result",
          "data": {
            "text/plain": [
              "[-1, -2, -3, -4, -4, 5, 6, 10, 10, 10, 10, 'uno']"
            ]
          },
          "metadata": {},
          "execution_count": 35
        }
      ]
    },
    {
      "cell_type": "code",
      "source": [
        "# Eliminar elemento en un índice\n",
        "a.pop(-1)\n",
        "a"
      ],
      "metadata": {
        "colab": {
          "base_uri": "https://localhost:8080/"
        },
        "id": "YW9KwWDwOcAz",
        "outputId": "d9c71cbd-ec78-41af-cfa6-391cf68072c9"
      },
      "execution_count": null,
      "outputs": [
        {
          "output_type": "execute_result",
          "data": {
            "text/plain": [
              "[-2, -3, -4, -4, 5, 6, 10, 10, 10]"
            ]
          },
          "metadata": {},
          "execution_count": 38
        }
      ]
    },
    {
      "cell_type": "code",
      "source": [
        "# Copiar la lista\n",
        "a_copy = a.copy()\n",
        "a_copy"
      ],
      "metadata": {
        "colab": {
          "base_uri": "https://localhost:8080/"
        },
        "id": "tvg_fXb8OqMv",
        "outputId": "188aa838-3431-4e01-b86a-8a3c1ed667de"
      },
      "execution_count": null,
      "outputs": [
        {
          "output_type": "execute_result",
          "data": {
            "text/plain": [
              "[-2, -3, -4, -4, 5, 6, 10, 10, 10]"
            ]
          },
          "metadata": {},
          "execution_count": 39
        }
      ]
    },
    {
      "cell_type": "code",
      "source": [
        "# Vaciar la lista\n",
        "a.clear()\n",
        "a"
      ],
      "metadata": {
        "colab": {
          "base_uri": "https://localhost:8080/"
        },
        "id": "lJH-OFcZOjLC",
        "outputId": "0379fe81-a3fd-44fb-e4a2-ec31c99d7aeb"
      },
      "execution_count": null,
      "outputs": [
        {
          "output_type": "execute_result",
          "data": {
            "text/plain": [
              "[]"
            ]
          },
          "metadata": {},
          "execution_count": 40
        }
      ]
    },
    {
      "cell_type": "code",
      "source": [
        "# Recuperar lista\n",
        "a = a_copy.copy()"
      ],
      "metadata": {
        "id": "7d_MPEcxPdTB"
      },
      "execution_count": null,
      "outputs": []
    },
    {
      "cell_type": "code",
      "source": [
        "# Iterar elementos\n",
        "for i in a:\n",
        "  print(i)"
      ],
      "metadata": {
        "colab": {
          "base_uri": "https://localhost:8080/"
        },
        "id": "E5bE5J4nPT6b",
        "outputId": "b204c459-8c68-4b1f-c24d-69a2183b938b"
      },
      "execution_count": null,
      "outputs": [
        {
          "output_type": "stream",
          "name": "stdout",
          "text": [
            "-2\n",
            "-3\n",
            "-4\n",
            "-4\n",
            "5\n",
            "6\n",
            "10\n",
            "10\n",
            "10\n"
          ]
        }
      ]
    },
    {
      "cell_type": "code",
      "source": [
        "# Rangos\n",
        "for i in range(5):\n",
        "  print(i)"
      ],
      "metadata": {
        "colab": {
          "base_uri": "https://localhost:8080/"
        },
        "id": "H6eVZUUcPbRq",
        "outputId": "a4758715-1b29-42f7-c1c4-e34c03cf0ebe"
      },
      "execution_count": null,
      "outputs": [
        {
          "output_type": "stream",
          "name": "stdout",
          "text": [
            "0\n",
            "1\n",
            "2\n",
            "3\n",
            "4\n"
          ]
        }
      ]
    },
    {
      "cell_type": "code",
      "source": [
        "# Rangos como listas\n",
        "list(range(2, 5))"
      ],
      "metadata": {
        "colab": {
          "base_uri": "https://localhost:8080/"
        },
        "id": "pCFgd350P2X-",
        "outputId": "ac622bb1-c81c-4050-e88e-11116e04f89c"
      },
      "execution_count": null,
      "outputs": [
        {
          "output_type": "execute_result",
          "data": {
            "text/plain": [
              "[2, 3, 4]"
            ]
          },
          "metadata": {},
          "execution_count": 47
        }
      ]
    },
    {
      "cell_type": "code",
      "source": [
        "list(range(2, 20, 3))"
      ],
      "metadata": {
        "colab": {
          "base_uri": "https://localhost:8080/"
        },
        "id": "vsSyFC4nP6qK",
        "outputId": "e9a69996-0f9e-41b1-9669-74a7b3a5be02"
      },
      "execution_count": null,
      "outputs": [
        {
          "output_type": "execute_result",
          "data": {
            "text/plain": [
              "[2, 5, 8, 11, 14, 17]"
            ]
          },
          "metadata": {},
          "execution_count": 48
        }
      ]
    },
    {
      "cell_type": "code",
      "source": [
        "# Iterar por índices con rangos\n",
        "for i in range(len(a)):\n",
        "  print(a[i])"
      ],
      "metadata": {
        "colab": {
          "base_uri": "https://localhost:8080/"
        },
        "id": "G-0yCwaJQAbX",
        "outputId": "c4a90ae8-2c7c-4234-e33d-a3d00c65a4d4"
      },
      "execution_count": null,
      "outputs": [
        {
          "output_type": "stream",
          "name": "stdout",
          "text": [
            "-2\n",
            "-3\n",
            "-4\n",
            "-4\n",
            "5\n",
            "6\n",
            "10\n",
            "10\n",
            "10\n"
          ]
        }
      ]
    },
    {
      "cell_type": "code",
      "source": [
        "# Iterar por condición\n",
        "i = 0\n",
        "while i < len(a):\n",
        "  print(a[i])\n",
        "  i += 1"
      ],
      "metadata": {
        "colab": {
          "base_uri": "https://localhost:8080/"
        },
        "id": "mJe_9ITLQGW8",
        "outputId": "c6b3dc61-4cf4-48d9-a425-063e5bbcc76c"
      },
      "execution_count": null,
      "outputs": [
        {
          "output_type": "stream",
          "name": "stdout",
          "text": [
            "-1\n",
            "-2\n",
            "-3\n",
            "-4\n",
            "1\n",
            "5\n",
            "6\n",
            "10\n"
          ]
        }
      ]
    },
    {
      "cell_type": "code",
      "source": [
        "# Comprensión de listas\n",
        "[i for i in a]"
      ],
      "metadata": {
        "colab": {
          "base_uri": "https://localhost:8080/"
        },
        "id": "J69fCvlHQQ28",
        "outputId": "c976752d-bca4-437b-9a1c-9d67e34a7e0c"
      },
      "execution_count": null,
      "outputs": [
        {
          "output_type": "execute_result",
          "data": {
            "text/plain": [
              "[-4, -6, -8, -8, 10, 12, 20, 20, 20]"
            ]
          },
          "metadata": {},
          "execution_count": 51
        }
      ]
    },
    {
      "cell_type": "markdown",
      "source": [
        "## Tuplas"
      ],
      "metadata": {
        "id": "bVbvNOi6RLTe"
      }
    },
    {
      "cell_type": "code",
      "source": [
        "# No pueden modificar su cardinalidad\n",
        "tupla = (1, 2, 3)\n",
        "tupla"
      ],
      "metadata": {
        "colab": {
          "base_uri": "https://localhost:8080/"
        },
        "id": "kFF58y2bRMj3",
        "outputId": "608e7e35-6592-4620-c74f-7c6a0a19380e"
      },
      "execution_count": null,
      "outputs": [
        {
          "output_type": "execute_result",
          "data": {
            "text/plain": [
              "(1, 2, 3)"
            ]
          },
          "metadata": {},
          "execution_count": 52
        }
      ]
    },
    {
      "cell_type": "markdown",
      "source": [
        "## Conjuntos"
      ],
      "metadata": {
        "id": "-e36BPb2RWgD"
      }
    },
    {
      "cell_type": "code",
      "source": [
        "# No permiten elementos repetidos\n",
        "# Los elementos se ordenan según su tipo de dato\n",
        "a = {5, 4, 1, 2, 3, 1, 2, 3, 4, 5}\n",
        "a"
      ],
      "metadata": {
        "colab": {
          "base_uri": "https://localhost:8080/"
        },
        "id": "ig_JEEU0Rdna",
        "outputId": "2a97bc05-5bde-4adf-a660-16dc661e40e4"
      },
      "execution_count": null,
      "outputs": [
        {
          "output_type": "execute_result",
          "data": {
            "text/plain": [
              "{1, 2, 3, 4, 5}"
            ]
          },
          "metadata": {},
          "execution_count": 164
        }
      ]
    },
    {
      "cell_type": "code",
      "source": [
        "# No tienen índices\n",
        "a[0]"
      ],
      "metadata": {
        "colab": {
          "base_uri": "https://localhost:8080/",
          "height": 187
        },
        "id": "h00vMqbGR0Y0",
        "outputId": "d7335565-0f83-4bdb-9437-8864a63bd0fe"
      },
      "execution_count": null,
      "outputs": [
        {
          "output_type": "error",
          "ename": "TypeError",
          "evalue": "ignored",
          "traceback": [
            "\u001b[0;31m---------------------------------------------------------------------------\u001b[0m",
            "\u001b[0;31mTypeError\u001b[0m                                 Traceback (most recent call last)",
            "\u001b[0;32m<ipython-input-165-545a870a7a69>\u001b[0m in \u001b[0;36m<module>\u001b[0;34m\u001b[0m\n\u001b[1;32m      1\u001b[0m \u001b[0;31m# No tienen índices\u001b[0m\u001b[0;34m\u001b[0m\u001b[0;34m\u001b[0m\u001b[0;34m\u001b[0m\u001b[0m\n\u001b[0;32m----> 2\u001b[0;31m \u001b[0ma\u001b[0m\u001b[0;34m[\u001b[0m\u001b[0;36m0\u001b[0m\u001b[0;34m]\u001b[0m\u001b[0;34m\u001b[0m\u001b[0;34m\u001b[0m\u001b[0m\n\u001b[0m",
            "\u001b[0;31mTypeError\u001b[0m: 'set' object is not subscriptable"
          ]
        }
      ]
    },
    {
      "cell_type": "code",
      "source": [
        "# Agregar elementos\n",
        "a.add(-1)\n",
        "a"
      ],
      "metadata": {
        "colab": {
          "base_uri": "https://localhost:8080/"
        },
        "id": "CA-TOtcGR3sn",
        "outputId": "5b8e35e2-8d49-42b0-96ce-3dc5a030262f"
      },
      "execution_count": null,
      "outputs": [
        {
          "output_type": "execute_result",
          "data": {
            "text/plain": [
              "{-1, 1, 2, 3, 4, 5}"
            ]
          },
          "metadata": {},
          "execution_count": 166
        }
      ]
    },
    {
      "cell_type": "code",
      "source": [
        "# Agregar otro conjunto\n",
        "b = {0, 10, 20}\n",
        "a.update(b)\n",
        "a"
      ],
      "metadata": {
        "colab": {
          "base_uri": "https://localhost:8080/"
        },
        "id": "nzkUv98DR_oP",
        "outputId": "731f9792-05e1-4f6b-f1df-ab385ecc93a0"
      },
      "execution_count": null,
      "outputs": [
        {
          "output_type": "execute_result",
          "data": {
            "text/plain": [
              "{-1, 0, 1, 2, 3, 4, 5, 10, 20}"
            ]
          },
          "metadata": {},
          "execution_count": 167
        }
      ]
    },
    {
      "cell_type": "code",
      "source": [
        "# Agregar listas, tuplas...\n",
        "lista = ['hola', 'cómo', 'estás']\n",
        "tupla = (3.14, 2.72)"
      ],
      "metadata": {
        "id": "HuA0K3ilSP_l"
      },
      "execution_count": null,
      "outputs": []
    },
    {
      "cell_type": "code",
      "source": [
        "a.update(lista)\n",
        "a"
      ],
      "metadata": {
        "colab": {
          "base_uri": "https://localhost:8080/"
        },
        "id": "AfwCda9ySbC8",
        "outputId": "dee47f40-412e-485f-bacc-a0030e2fad27"
      },
      "execution_count": null,
      "outputs": [
        {
          "output_type": "execute_result",
          "data": {
            "text/plain": [
              "{-1, 0, 1, 10, 2, 20, 3, 4, 5, 'cómo', 'estás', 'hola'}"
            ]
          },
          "metadata": {},
          "execution_count": 169
        }
      ]
    },
    {
      "cell_type": "code",
      "source": [
        "a.update(tupla)\n",
        "a"
      ],
      "metadata": {
        "colab": {
          "base_uri": "https://localhost:8080/"
        },
        "id": "QHYCHIksScqT",
        "outputId": "c0f9119c-4d54-4aed-efac-63594cdedf3f"
      },
      "execution_count": null,
      "outputs": [
        {
          "output_type": "execute_result",
          "data": {
            "text/plain": [
              "{-1, 0, 1, 10, 2, 2.72, 20, 3, 3.14, 4, 5, 'cómo', 'estás', 'hola'}"
            ]
          },
          "metadata": {},
          "execution_count": 74
        }
      ]
    },
    {
      "cell_type": "code",
      "source": [
        "# Eliminar elementos\n",
        "a.remove('cómo')\n",
        "a"
      ],
      "metadata": {
        "colab": {
          "base_uri": "https://localhost:8080/"
        },
        "id": "pxBgPftkSx1F",
        "outputId": "c6edd1c0-3063-442a-eebc-40bb1a2696e9"
      },
      "execution_count": null,
      "outputs": [
        {
          "output_type": "execute_result",
          "data": {
            "text/plain": [
              "{-1, 0, 1, 10, 2, 2.72, 20, 3, 3.14, 4, 5, 'estás', 'hola'}"
            ]
          },
          "metadata": {},
          "execution_count": 75
        }
      ]
    },
    {
      "cell_type": "code",
      "source": [
        "# remove da error si no existe el elemento\n",
        "a.remove('cómo')"
      ],
      "metadata": {
        "colab": {
          "base_uri": "https://localhost:8080/",
          "height": 185
        },
        "id": "GxoPxJh3S7SH",
        "outputId": "e0467371-f1a0-40a2-b22b-9b3132aed1a2"
      },
      "execution_count": null,
      "outputs": [
        {
          "output_type": "error",
          "ename": "KeyError",
          "evalue": "ignored",
          "traceback": [
            "\u001b[0;31m---------------------------------------------------------------------------\u001b[0m",
            "\u001b[0;31mKeyError\u001b[0m                                  Traceback (most recent call last)",
            "\u001b[0;32m<ipython-input-76-4143bc40d236>\u001b[0m in \u001b[0;36m<module>\u001b[0;34m\u001b[0m\n\u001b[1;32m      1\u001b[0m \u001b[0;31m# remove da error si no existe el elemento\u001b[0m\u001b[0;34m\u001b[0m\u001b[0;34m\u001b[0m\u001b[0;34m\u001b[0m\u001b[0m\n\u001b[0;32m----> 2\u001b[0;31m \u001b[0ma\u001b[0m\u001b[0;34m.\u001b[0m\u001b[0mremove\u001b[0m\u001b[0;34m(\u001b[0m\u001b[0;34m'cómo'\u001b[0m\u001b[0;34m)\u001b[0m\u001b[0;34m\u001b[0m\u001b[0;34m\u001b[0m\u001b[0m\n\u001b[0m",
            "\u001b[0;31mKeyError\u001b[0m: 'cómo'"
          ]
        }
      ]
    },
    {
      "cell_type": "code",
      "source": [
        "# Puede usarse discard\n",
        "a.discard('estás')\n",
        "a"
      ],
      "metadata": {
        "colab": {
          "base_uri": "https://localhost:8080/"
        },
        "id": "2yimOMrMS1Tr",
        "outputId": "185a6f85-1fee-4dbd-fb9f-cc610505a14a"
      },
      "execution_count": null,
      "outputs": [
        {
          "output_type": "execute_result",
          "data": {
            "text/plain": [
              "{-1, 0, 1, 10, 2, 2.72, 20, 3, 3.14, 4, 5, 'hola'}"
            ]
          },
          "metadata": {},
          "execution_count": 77
        }
      ]
    },
    {
      "cell_type": "code",
      "source": [
        "# Que no da error si no existe el elemento\n",
        "a.discard('estás')\n",
        "a"
      ],
      "metadata": {
        "colab": {
          "base_uri": "https://localhost:8080/"
        },
        "id": "mI00c3vQTBcJ",
        "outputId": "3666f0cc-e349-436d-89ba-4bb48f6eec72"
      },
      "execution_count": null,
      "outputs": [
        {
          "output_type": "execute_result",
          "data": {
            "text/plain": [
              "{-1, 0, 1, 10, 2, 2.72, 20, 3, 3.14, 4, 5, 'hola'}"
            ]
          },
          "metadata": {},
          "execution_count": 79
        }
      ]
    },
    {
      "cell_type": "markdown",
      "source": [
        "## Operaciones con conjuntos"
      ],
      "metadata": {
        "id": "J8f1SniOTRHM"
      }
    },
    {
      "cell_type": "code",
      "source": [
        "a = {1, 2, 3}\n",
        "b = {3, 4, 5}\n",
        "c = {2}"
      ],
      "metadata": {
        "id": "0fKsGdA9TUmw"
      },
      "execution_count": null,
      "outputs": []
    },
    {
      "cell_type": "code",
      "source": [
        "a.intersection(b)"
      ],
      "metadata": {
        "colab": {
          "base_uri": "https://localhost:8080/"
        },
        "id": "wh6jBnB6TZ3y",
        "outputId": "cf37ccd1-2446-48c3-ed80-45d6d5b7bca4"
      },
      "execution_count": null,
      "outputs": [
        {
          "output_type": "execute_result",
          "data": {
            "text/plain": [
              "{3}"
            ]
          },
          "metadata": {},
          "execution_count": 81
        }
      ]
    },
    {
      "cell_type": "code",
      "source": [
        "a.difference(b)"
      ],
      "metadata": {
        "colab": {
          "base_uri": "https://localhost:8080/"
        },
        "id": "r9gYrY6gTcbL",
        "outputId": "7a7deffd-bb3b-406b-dfee-6edc1975ddf2"
      },
      "execution_count": null,
      "outputs": [
        {
          "output_type": "execute_result",
          "data": {
            "text/plain": [
              "{1, 2}"
            ]
          },
          "metadata": {},
          "execution_count": 82
        }
      ]
    },
    {
      "cell_type": "code",
      "source": [
        "b.difference(a)"
      ],
      "metadata": {
        "colab": {
          "base_uri": "https://localhost:8080/"
        },
        "id": "5hPVRbxlTeWJ",
        "outputId": "8b3fbfd7-54dc-4ba2-f861-c60d56e852b4"
      },
      "execution_count": null,
      "outputs": [
        {
          "output_type": "execute_result",
          "data": {
            "text/plain": [
              "{4, 5}"
            ]
          },
          "metadata": {},
          "execution_count": 83
        }
      ]
    },
    {
      "cell_type": "code",
      "source": [
        "c.issubset(a)"
      ],
      "metadata": {
        "colab": {
          "base_uri": "https://localhost:8080/"
        },
        "id": "U-FQCLkQTlc3",
        "outputId": "1332cffc-674c-4e3f-fd0f-7d769d1633dd"
      },
      "execution_count": null,
      "outputs": [
        {
          "output_type": "execute_result",
          "data": {
            "text/plain": [
              "True"
            ]
          },
          "metadata": {},
          "execution_count": 84
        }
      ]
    },
    {
      "cell_type": "code",
      "source": [
        "b.issuperset(a)"
      ],
      "metadata": {
        "colab": {
          "base_uri": "https://localhost:8080/"
        },
        "id": "prboLXdeTmnt",
        "outputId": "8fe1e7df-858f-421e-c13d-702153b24bcb"
      },
      "execution_count": null,
      "outputs": [
        {
          "output_type": "execute_result",
          "data": {
            "text/plain": [
              "False"
            ]
          },
          "metadata": {},
          "execution_count": 85
        }
      ]
    },
    {
      "cell_type": "code",
      "source": [
        "a.union(b)"
      ],
      "metadata": {
        "colab": {
          "base_uri": "https://localhost:8080/"
        },
        "id": "Tktm1qZGTqiV",
        "outputId": "540a4346-cdae-4645-9cd9-90789243d0f2"
      },
      "execution_count": null,
      "outputs": [
        {
          "output_type": "execute_result",
          "data": {
            "text/plain": [
              "{1, 2, 3, 4, 5}"
            ]
          },
          "metadata": {},
          "execution_count": 86
        }
      ]
    },
    {
      "cell_type": "markdown",
      "source": [
        "## Diccionarios"
      ],
      "metadata": {
        "id": "o2bjgvXMTuWL"
      }
    },
    {
      "cell_type": "code",
      "source": [
        "d = {\n",
        "  'llave1' : 1,\n",
        "  'llave2' : 'dos',\n",
        "  'flotante' : 1.1,\n",
        "  'booleano' : True,\n",
        "  'lista' : [\n",
        "    1, 2, 3\n",
        "  ],\n",
        "  'tupla' : (\n",
        "    5, 6, 7, 8\n",
        "  )\n",
        "}\n",
        "d"
      ],
      "metadata": {
        "colab": {
          "base_uri": "https://localhost:8080/"
        },
        "id": "SWBYH2mJT18V",
        "outputId": "65249d25-4bbe-47a1-8d61-e69dd1f0661a"
      },
      "execution_count": null,
      "outputs": [
        {
          "output_type": "execute_result",
          "data": {
            "text/plain": [
              "{'llave1': 1,\n",
              " 'llave2': 'dos',\n",
              " 'flotante': 1.1,\n",
              " 'booleano': True,\n",
              " 'lista': [1, 2, 3],\n",
              " 'tupla': (5, 6, 7, 8)}"
            ]
          },
          "metadata": {},
          "execution_count": 53
        }
      ]
    },
    {
      "cell_type": "code",
      "source": [
        "# Obtener valores por llave\n",
        "d['lista']"
      ],
      "metadata": {
        "colab": {
          "base_uri": "https://localhost:8080/"
        },
        "id": "0p69xozYURX3",
        "outputId": "e982ca05-8dfc-480b-b98c-10abd2f01d6c"
      },
      "execution_count": null,
      "outputs": [
        {
          "output_type": "execute_result",
          "data": {
            "text/plain": [
              "[1, 2, 3]"
            ]
          },
          "metadata": {},
          "execution_count": 54
        }
      ]
    },
    {
      "cell_type": "code",
      "source": [
        "# Anidación\n",
        "d.get('lista')"
      ],
      "metadata": {
        "colab": {
          "base_uri": "https://localhost:8080/"
        },
        "id": "P3mlO-xRUVVh",
        "outputId": "b7dc0bd3-7486-4aa4-8c2e-7e65d8c80fae"
      },
      "execution_count": null,
      "outputs": [
        {
          "output_type": "execute_result",
          "data": {
            "text/plain": [
              "[1, 2, 3]"
            ]
          },
          "metadata": {},
          "execution_count": 56
        }
      ]
    },
    {
      "cell_type": "code",
      "source": [
        "# Aquí están las llaves\n",
        "d.keys()"
      ],
      "metadata": {
        "colab": {
          "base_uri": "https://localhost:8080/"
        },
        "id": "PvZlEudyU9F_",
        "outputId": "df43e8d2-2875-4093-c160-a5b9e1d39684"
      },
      "execution_count": null,
      "outputs": [
        {
          "output_type": "execute_result",
          "data": {
            "text/plain": [
              "dict_keys(['llave1', 'llave2', 'flotante', 'booleano', 'lista', 'tupla'])"
            ]
          },
          "metadata": {},
          "execution_count": 57
        }
      ]
    },
    {
      "cell_type": "code",
      "source": [
        "# Y aquí los valores\n",
        "d.values()"
      ],
      "metadata": {
        "colab": {
          "base_uri": "https://localhost:8080/"
        },
        "id": "PdjBckP8U_6B",
        "outputId": "3151b89e-9d6c-4577-9b10-a5944610d418"
      },
      "execution_count": null,
      "outputs": [
        {
          "output_type": "execute_result",
          "data": {
            "text/plain": [
              "dict_values([1, 'dos', 1.1, True, [1, 2, 3], (5, 6, 7, 8)])"
            ]
          },
          "metadata": {},
          "execution_count": 58
        }
      ]
    },
    {
      "cell_type": "code",
      "source": [
        "# Elementos\n",
        "d.items()"
      ],
      "metadata": {
        "colab": {
          "base_uri": "https://localhost:8080/"
        },
        "id": "Jz9Ujiu2ZXbJ",
        "outputId": "41c72d28-f268-4ce7-dab4-561666a2fa79"
      },
      "execution_count": null,
      "outputs": [
        {
          "output_type": "execute_result",
          "data": {
            "text/plain": [
              "dict_items([('llave1', 1), ('llave2', 'dos'), ('flotante', 1.1), ('booleano', True), ('lista', [1, 2, 3]), ('tupla', (5, 6, 7, 8))])"
            ]
          },
          "metadata": {},
          "execution_count": 66
        }
      ]
    },
    {
      "cell_type": "code",
      "source": [
        "# Modificar elementos\n",
        "d['llave1'] = 'Nuevo valor'\n",
        "d['llave1']"
      ],
      "metadata": {
        "colab": {
          "base_uri": "https://localhost:8080/",
          "height": 36
        },
        "id": "a5TTCVMHZ3rg",
        "outputId": "d92ad016-b5cb-47c4-8dce-159f19d07197"
      },
      "execution_count": null,
      "outputs": [
        {
          "output_type": "execute_result",
          "data": {
            "text/plain": [
              "'Nuevo valor'"
            ],
            "application/vnd.google.colaboratory.intrinsic+json": {
              "type": "string"
            }
          },
          "metadata": {},
          "execution_count": 67
        }
      ]
    },
    {
      "cell_type": "code",
      "source": [
        "# Modificar varios elementos\n",
        "d.update({\n",
        "    'llave1' : 'one',\n",
        "    'llave2' : 'two'\n",
        "})\n",
        "d"
      ],
      "metadata": {
        "colab": {
          "base_uri": "https://localhost:8080/"
        },
        "id": "9FAKQBD2ecyK",
        "outputId": "228f63f4-f080-4be9-d764-6bb72d3d0871"
      },
      "execution_count": null,
      "outputs": [
        {
          "output_type": "execute_result",
          "data": {
            "text/plain": [
              "{'llave1': 'one',\n",
              " 'llave2': 'two',\n",
              " 'flotante': 1.1,\n",
              " 'booleano': True,\n",
              " 'lista': [1, 2, 3],\n",
              " 'tupla': (5, 6, 7, 8)}"
            ]
          },
          "metadata": {},
          "execution_count": 68
        }
      ]
    },
    {
      "cell_type": "code",
      "source": [
        "# Agregar par\n",
        "d['nuevo'] = 'soy nuevo'\n",
        "d"
      ],
      "metadata": {
        "colab": {
          "base_uri": "https://localhost:8080/"
        },
        "id": "97rrHh0Te2db",
        "outputId": "253c0fa7-de3e-4ab3-a9b2-6154cb8273d8"
      },
      "execution_count": null,
      "outputs": [
        {
          "output_type": "execute_result",
          "data": {
            "text/plain": [
              "{'llave1': 'one',\n",
              " 'llave2': 'two',\n",
              " 'flotante': 1.1,\n",
              " 'booleano': True,\n",
              " 'lista': [1, 2, 3],\n",
              " 'tupla': (5, 6, 7, 8),\n",
              " 'nuevo': 'soy nuevo'}"
            ]
          },
          "metadata": {},
          "execution_count": 69
        }
      ]
    },
    {
      "cell_type": "code",
      "source": [
        "# También pueden agregarse por update\n",
        "d.update({\n",
        "    'más nuevo': 'hola',\n",
        "    'la novedad' : 'ey'\n",
        "})\n",
        "d"
      ],
      "metadata": {
        "colab": {
          "base_uri": "https://localhost:8080/"
        },
        "id": "o5lxcFkyfBbs",
        "outputId": "720af79f-f795-4528-c0be-335301f13584"
      },
      "execution_count": null,
      "outputs": [
        {
          "output_type": "execute_result",
          "data": {
            "text/plain": [
              "{'llave1': 'one',\n",
              " 'llave2': 'two',\n",
              " 'flotante': 1.1,\n",
              " 'booleano': True,\n",
              " 'lista': [1, 2, 3],\n",
              " 'tupla': (5, 6, 7, 8),\n",
              " 'nuevo': 'soy nuevo',\n",
              " 'más nuevo': 'hola',\n",
              " 'la novedad': 'ey'}"
            ]
          },
          "metadata": {},
          "execution_count": 70
        }
      ]
    },
    {
      "cell_type": "code",
      "source": [
        "# Eliminar elemento\n",
        "d.pop('la novedad')\n",
        "d"
      ],
      "metadata": {
        "colab": {
          "base_uri": "https://localhost:8080/"
        },
        "id": "-TkYkGUVfT8O",
        "outputId": "456cbf10-de90-4221-9228-69282f98fbcf"
      },
      "execution_count": null,
      "outputs": [
        {
          "output_type": "execute_result",
          "data": {
            "text/plain": [
              "{'llave1': 'one',\n",
              " 'llave2': 'two',\n",
              " 'flotante': 1.1,\n",
              " 'booleano': True,\n",
              " 'lista': [1, 2, 3],\n",
              " 'tupla': (5, 6, 7, 8),\n",
              " 'nuevo': 'soy nuevo',\n",
              " 'más nuevo': 'hola'}"
            ]
          },
          "metadata": {},
          "execution_count": 98
        }
      ]
    },
    {
      "cell_type": "code",
      "source": [
        "# Iterar todas las llaves\n",
        "for i in d:\n",
        "  print(i)"
      ],
      "metadata": {
        "colab": {
          "base_uri": "https://localhost:8080/"
        },
        "id": "nvx7QCJLfcOm",
        "outputId": "89e0c1af-b9cb-4ad4-dc56-2f6ea0eadc0c"
      },
      "execution_count": null,
      "outputs": [
        {
          "output_type": "stream",
          "name": "stdout",
          "text": [
            "llave1\n",
            "llave2\n",
            "flotante\n",
            "booleano\n",
            "lista\n",
            "tupla\n",
            "nuevo\n",
            "más nuevo\n",
            "la novedad\n"
          ]
        }
      ]
    },
    {
      "cell_type": "code",
      "source": [
        "# Iterar todos los valores\n",
        "for i in d:\n",
        "  print(d[i])"
      ],
      "metadata": {
        "colab": {
          "base_uri": "https://localhost:8080/"
        },
        "id": "GSwB0oowfjlh",
        "outputId": "af566d27-d537-4af4-e527-393251b16fd7"
      },
      "execution_count": null,
      "outputs": [
        {
          "output_type": "stream",
          "name": "stdout",
          "text": [
            "one\n",
            "two\n",
            "1.1\n",
            "True\n",
            "[1, 2, 3]\n",
            "(5, 6, 7, 8)\n",
            "soy nuevo\n",
            "hola\n",
            "ey\n"
          ]
        }
      ]
    },
    {
      "cell_type": "code",
      "source": [
        "# Iterar todos los elementos\n",
        "for i, j in d.items():\n",
        "  print('llave: ' + str(i) + ' valor: ' + str(j))"
      ],
      "metadata": {
        "colab": {
          "base_uri": "https://localhost:8080/"
        },
        "id": "Mp5NrOHQfqry",
        "outputId": "2e46a7cf-419b-4dc3-d2c7-b586b459cd2b"
      },
      "execution_count": null,
      "outputs": [
        {
          "output_type": "stream",
          "name": "stdout",
          "text": [
            "llave: llave1 valor: one\n",
            "llave: llave2 valor: two\n",
            "llave: flotante valor: 1.1\n",
            "llave: booleano valor: True\n",
            "llave: lista valor: [1, 2, 3]\n",
            "llave: tupla valor: (5, 6, 7, 8)\n",
            "llave: nuevo valor: soy nuevo\n",
            "llave: más nuevo valor: hola\n",
            "llave: la novedad valor: ey\n"
          ]
        }
      ]
    },
    {
      "cell_type": "markdown",
      "source": [
        "## Condiciones"
      ],
      "metadata": {
        "id": "wI2vHhLYluKM"
      }
    },
    {
      "cell_type": "code",
      "source": [
        "if True:\n",
        "  print('Se ejecuta el código anidado')"
      ],
      "metadata": {
        "colab": {
          "base_uri": "https://localhost:8080/"
        },
        "id": "ZZKh3nqNl0tB",
        "outputId": "c3e09879-d779-4a98-e81f-8396bd142675"
      },
      "execution_count": null,
      "outputs": [
        {
          "output_type": "stream",
          "name": "stdout",
          "text": [
            "Se ejecuta el código anidado\n"
          ]
        }
      ]
    },
    {
      "cell_type": "code",
      "source": [
        "if False:\n",
        "  print('No se ejecuta 😔')"
      ],
      "metadata": {
        "id": "jQfHVoJBmlVh"
      },
      "execution_count": null,
      "outputs": []
    },
    {
      "cell_type": "code",
      "source": [
        "if False:\n",
        "  print('Si la condición inicial no se cumple')\n",
        "elif False:\n",
        "  print('Pueden agregarse otras, en secuencia')\n",
        "elif False:\n",
        "  print('Si ninguna se cumple')\n",
        "else:\n",
        "  print('Se ejecutan los códigos del else')"
      ],
      "metadata": {
        "colab": {
          "base_uri": "https://localhost:8080/"
        },
        "id": "T1qx7Z80mu0_",
        "outputId": "33402278-c285-43c3-bedc-829e6b08cfce"
      },
      "execution_count": null,
      "outputs": [
        {
          "output_type": "stream",
          "name": "stdout",
          "text": [
            "Se ejecutan los códigos del else\n"
          ]
        }
      ]
    },
    {
      "cell_type": "code",
      "source": [
        "# Pueden dejarse condiciones vacías\n",
        "if True:\n",
        "  pass"
      ],
      "metadata": {
        "id": "gEl9qpQpnBLp"
      },
      "execution_count": null,
      "outputs": []
    },
    {
      "cell_type": "markdown",
      "source": [
        "## Ciclos y condiciones"
      ],
      "metadata": {
        "id": "sfW1e_Ffnkrp"
      }
    },
    {
      "cell_type": "code",
      "source": [
        "for i in range(5):\n",
        "  if i == 2:\n",
        "    continue # Se salta esta iteración\n",
        "  if i == 3:\n",
        "    break # Termina la iteración\n",
        "  print(i)"
      ],
      "metadata": {
        "colab": {
          "base_uri": "https://localhost:8080/"
        },
        "id": "PK101kHJnsLl",
        "outputId": "70a47724-eadd-4078-9252-12818e711f63"
      },
      "execution_count": null,
      "outputs": [
        {
          "output_type": "stream",
          "name": "stdout",
          "text": [
            "0\n",
            "1\n"
          ]
        }
      ]
    },
    {
      "cell_type": "markdown",
      "source": [
        "## Matrices"
      ],
      "metadata": {
        "id": "m4VPlDFEoJrs"
      }
    },
    {
      "cell_type": "code",
      "source": [
        "m = [\n",
        "  [1, 2, 3, 4],\n",
        "  [5, 6, 7, 8],\n",
        "  [9, 10, 11, 12]\n",
        "]\n",
        "m"
      ],
      "metadata": {
        "colab": {
          "base_uri": "https://localhost:8080/"
        },
        "id": "3YtymQ4SoLa1",
        "outputId": "b5395e25-83cf-48f4-f42d-72c32e876ad2"
      },
      "execution_count": null,
      "outputs": [
        {
          "output_type": "execute_result",
          "data": {
            "text/plain": [
              "[[1, 2, 3, 4], [5, 6, 7, 8], [9, 10, 11, 12]]"
            ]
          },
          "metadata": {},
          "execution_count": 81
        }
      ]
    },
    {
      "cell_type": "code",
      "source": [
        "filas = len(m)\n",
        "filas"
      ],
      "metadata": {
        "colab": {
          "base_uri": "https://localhost:8080/"
        },
        "id": "ZPs11n7IoddF",
        "outputId": "67667707-8dfb-4a86-a228-d7f3221783f9"
      },
      "execution_count": null,
      "outputs": [
        {
          "output_type": "execute_result",
          "data": {
            "text/plain": [
              "3"
            ]
          },
          "metadata": {},
          "execution_count": 82
        }
      ]
    },
    {
      "cell_type": "code",
      "source": [
        "columnas = len(m[0])\n",
        "columnas"
      ],
      "metadata": {
        "colab": {
          "base_uri": "https://localhost:8080/"
        },
        "id": "2vTK3uoeohu8",
        "outputId": "50cdc271-9f14-4244-b2be-8242cea67996"
      },
      "execution_count": null,
      "outputs": [
        {
          "output_type": "execute_result",
          "data": {
            "text/plain": [
              "4"
            ]
          },
          "metadata": {},
          "execution_count": 83
        }
      ]
    },
    {
      "cell_type": "code",
      "source": [
        "# Imprimir como matriz\n",
        "for i in range(filas):\n",
        "  for j in range(columnas):\n",
        "    print(m[i][j], '\\t', end = '')\n",
        "  print('\\n')"
      ],
      "metadata": {
        "colab": {
          "base_uri": "https://localhost:8080/"
        },
        "id": "AvZv1oTyoWQR",
        "outputId": "31aa98db-12f8-435b-a37c-4d51114739de"
      },
      "execution_count": null,
      "outputs": [
        {
          "output_type": "stream",
          "name": "stdout",
          "text": [
            "1 \t2 \t3 \t4 \t\n",
            "\n",
            "5 \t6 \t7 \t8 \t\n",
            "\n",
            "9 \t10 \t11 \t12 \t\n",
            "\n"
          ]
        }
      ]
    },
    {
      "cell_type": "markdown",
      "source": [
        "## Funciones"
      ],
      "metadata": {
        "id": "V8gU6SPMo_36"
      }
    },
    {
      "cell_type": "code",
      "source": [
        "def f():\n",
        "  print('Esto es una función')\n",
        "\n",
        "f()"
      ],
      "metadata": {
        "colab": {
          "base_uri": "https://localhost:8080/"
        },
        "id": "IxjiOuMcpB4H",
        "outputId": "5897cd1b-60dd-4c58-c971-4731964510a7"
      },
      "execution_count": null,
      "outputs": [
        {
          "output_type": "stream",
          "name": "stdout",
          "text": [
            "Esto es una función\n"
          ]
        }
      ]
    },
    {
      "cell_type": "code",
      "source": [
        "def f(argumento1, argumento2):\n",
        "  print(argumento1, argumento2)\n",
        "\n",
        "f('Esto va', 'a ir unido')"
      ],
      "metadata": {
        "colab": {
          "base_uri": "https://localhost:8080/"
        },
        "id": "TLen-pSepKJb",
        "outputId": "1635cf97-3ab0-4d41-bd4b-d818a668a06a"
      },
      "execution_count": null,
      "outputs": [
        {
          "output_type": "stream",
          "name": "stdout",
          "text": [
            "Esto va a ir unido\n"
          ]
        }
      ]
    },
    {
      "cell_type": "code",
      "source": [
        "def f(*argumentos):\n",
        "  print('Elementos de lista', argumentos[2])\n",
        "\n",
        "f('😢', '😢', '🥳🥳🥳', '😢')"
      ],
      "metadata": {
        "colab": {
          "base_uri": "https://localhost:8080/"
        },
        "id": "5qmXE3qtpa9Q",
        "outputId": "84c8c176-286b-4661-993a-d6e91dbc6d4d"
      },
      "execution_count": null,
      "outputs": [
        {
          "output_type": "stream",
          "name": "stdout",
          "text": [
            "Elementos de lista 🥳🥳🥳\n"
          ]
        }
      ]
    },
    {
      "cell_type": "code",
      "source": [
        "def f(**kwargs):\n",
        "  print('Llave de un diccionario:', kwargs['llave_específica'])\n",
        "\n",
        "f(no = 1, tampoco = 2, llave_específica = 'WUUUUUUUUU')"
      ],
      "metadata": {
        "colab": {
          "base_uri": "https://localhost:8080/"
        },
        "id": "KyaSHUNYp_uH",
        "outputId": "d424953e-e041-441a-d923-362234dd3db5"
      },
      "execution_count": null,
      "outputs": [
        {
          "output_type": "stream",
          "name": "stdout",
          "text": [
            "Llave de un diccionario: WUUUUUUUUU\n"
          ]
        }
      ]
    },
    {
      "cell_type": "code",
      "source": [
        "def f(a1, a2, a3, por_defecto = 'van al final'):\n",
        "  print(a1, a2, a3, por_defecto)\n",
        "\n",
        "f('Los argumentos', 'con valores', 'por defecto')"
      ],
      "metadata": {
        "id": "mUHq0ADiqclp",
        "colab": {
          "base_uri": "https://localhost:8080/"
        },
        "outputId": "47860d77-3d99-4565-e44b-06b9ae556626"
      },
      "execution_count": null,
      "outputs": [
        {
          "output_type": "stream",
          "name": "stdout",
          "text": [
            "Los argumentos con valores por defecto van al final\n"
          ]
        }
      ]
    },
    {
      "cell_type": "code",
      "source": [
        "def f():\n",
        "  return 'valor de retorno de f()'\n",
        "\n",
        "print('Imprimiré el', f())"
      ],
      "metadata": {
        "colab": {
          "base_uri": "https://localhost:8080/"
        },
        "id": "b5TZlHYfrOTw",
        "outputId": "26ba4e67-babb-4c6e-d992-049c9320b32d"
      },
      "execution_count": null,
      "outputs": [
        {
          "output_type": "stream",
          "name": "stdout",
          "text": [
            "Imprimiré el valor de retorno de f()\n"
          ]
        }
      ]
    },
    {
      "cell_type": "code",
      "source": [
        "# Función recursiva con if en una línea\n",
        "def factorial(a):\n",
        "  return a if a == 1 else a * factorial(a-1)\n",
        "\n",
        "factorial(5)"
      ],
      "metadata": {
        "colab": {
          "base_uri": "https://localhost:8080/"
        },
        "id": "8bQhir3zsq_D",
        "outputId": "8d719e1c-e978-41c5-bdac-a8d932425392"
      },
      "execution_count": null,
      "outputs": [
        {
          "output_type": "execute_result",
          "data": {
            "text/plain": [
              "120"
            ]
          },
          "metadata": {},
          "execution_count": 92
        }
      ]
    },
    {
      "cell_type": "code",
      "source": [
        "# Qué hace esta función 🤔\n",
        "def recursiva(r):\n",
        "  print(r[-1], end = '')\n",
        "  if len(r) > 1:\n",
        "    return recursiva(r[:-1])\n",
        "\n",
        "recursiva('reconocer')"
      ],
      "metadata": {
        "colab": {
          "base_uri": "https://localhost:8080/"
        },
        "id": "AFuZBkGKrftL",
        "outputId": "271b4aa9-bdd7-49f1-baa8-374df62ae56f"
      },
      "execution_count": null,
      "outputs": [
        {
          "output_type": "stream",
          "name": "stdout",
          "text": [
            "reconocer"
          ]
        }
      ]
    },
    {
      "cell_type": "markdown",
      "source": [
        "## Lambda"
      ],
      "metadata": {
        "id": "bnB4nePGsPfh"
      }
    },
    {
      "cell_type": "code",
      "source": [
        "x = lambda a: a + 10\n",
        "x(5)"
      ],
      "metadata": {
        "colab": {
          "base_uri": "https://localhost:8080/"
        },
        "id": "EGbctARIsQpp",
        "outputId": "c02ac1c6-06e1-4a78-a6c8-45bdeea6df34"
      },
      "execution_count": null,
      "outputs": [
        {
          "output_type": "execute_result",
          "data": {
            "text/plain": [
              "15"
            ]
          },
          "metadata": {},
          "execution_count": 95
        }
      ]
    },
    {
      "cell_type": "code",
      "source": [
        "# Incrementar n\n",
        "def f(n):\n",
        "  return lambda x: x + n\n",
        "\n",
        "inc5 = f(5)\n",
        "inc5(3)"
      ],
      "metadata": {
        "colab": {
          "base_uri": "https://localhost:8080/"
        },
        "id": "qxeK_ZMxse3J",
        "outputId": "2aef80ae-38a1-467a-f6ef-b64183ed1290"
      },
      "execution_count": null,
      "outputs": [
        {
          "output_type": "execute_result",
          "data": {
            "text/plain": [
              "8"
            ]
          },
          "metadata": {},
          "execution_count": 96
        }
      ]
    },
    {
      "cell_type": "markdown",
      "source": [
        "## Formato de cadenas"
      ],
      "metadata": {
        "id": "Fi0TmfKJNaAL"
      }
    },
    {
      "cell_type": "code",
      "source": [
        "# Se puede dar formato por nombre de variable\n",
        "'Aquí va una variable {flotante}, y aquí otra {booleano}'.format(flotante = 1.4, booleano = False)"
      ],
      "metadata": {
        "colab": {
          "base_uri": "https://localhost:8080/",
          "height": 36
        },
        "id": "7nzRs7IfNdes",
        "outputId": "11b9f29e-647b-4090-c7c6-c72d06d4fb6c"
      },
      "execution_count": null,
      "outputs": [
        {
          "output_type": "execute_result",
          "data": {
            "text/plain": [
              "'Aquí va una variable 1.4, y aquí otra False'"
            ],
            "application/vnd.google.colaboratory.intrinsic+json": {
              "type": "string"
            }
          },
          "metadata": {},
          "execution_count": 98
        }
      ]
    },
    {
      "cell_type": "code",
      "source": [
        "# Por posición\n",
        "'Aquí va una variable {0}, y aquí otra {1}'.format(1.4, False)"
      ],
      "metadata": {
        "colab": {
          "base_uri": "https://localhost:8080/",
          "height": 36
        },
        "id": "13O2loIUOC4A",
        "outputId": "be80c715-f7c7-455b-f445-444d110decea"
      },
      "execution_count": null,
      "outputs": [
        {
          "output_type": "execute_result",
          "data": {
            "text/plain": [
              "'Aquí va una variable 1.4, y aquí otra False'"
            ],
            "application/vnd.google.colaboratory.intrinsic+json": {
              "type": "string"
            }
          },
          "metadata": {},
          "execution_count": 99
        }
      ]
    },
    {
      "cell_type": "code",
      "source": [
        "# O por posición por defecto\n",
        "'Aquí va una variable {}, y aquí otra {}'.format(1.4, False)"
      ],
      "metadata": {
        "colab": {
          "base_uri": "https://localhost:8080/",
          "height": 36
        },
        "id": "zriJPKegPSU8",
        "outputId": "90361996-df7c-4579-ec4d-e9bb45641e54"
      },
      "execution_count": null,
      "outputs": [
        {
          "output_type": "execute_result",
          "data": {
            "text/plain": [
              "'Aquí va una variable 1.4, y aquí otra False'"
            ],
            "application/vnd.google.colaboratory.intrinsic+json": {
              "type": "string"
            }
          },
          "metadata": {},
          "execution_count": 100
        }
      ]
    },
    {
      "cell_type": "code",
      "source": [
        "'Número flotante con tres decimales: {:.3f}'.format(1.234567)"
      ],
      "metadata": {
        "colab": {
          "base_uri": "https://localhost:8080/",
          "height": 35
        },
        "id": "20L5xeozPZr2",
        "outputId": "0e31a9a4-63df-49f2-b4b1-881acaef05e6"
      },
      "execution_count": null,
      "outputs": [
        {
          "output_type": "execute_result",
          "data": {
            "text/plain": [
              "'Número flotante con tres decimales: 1.235'"
            ],
            "application/vnd.google.colaboratory.intrinsic+json": {
              "type": "string"
            }
          },
          "metadata": {},
          "execution_count": 124
        }
      ]
    },
    {
      "cell_type": "code",
      "source": [
        "# Cadenas con formato empiezan con f\n",
        "a = 'cualquier cosa'\n",
        "f'Vamos a imprmir {a}'"
      ],
      "metadata": {
        "colab": {
          "base_uri": "https://localhost:8080/",
          "height": 36
        },
        "id": "2JUuP-kUQ2va",
        "outputId": "15836e5c-8926-45d5-b681-2081493b2d90"
      },
      "execution_count": null,
      "outputs": [
        {
          "output_type": "execute_result",
          "data": {
            "text/plain": [
              "'Vamos a imprmir cualquier cosa'"
            ],
            "application/vnd.google.colaboratory.intrinsic+json": {
              "type": "string"
            }
          },
          "metadata": {},
          "execution_count": 101
        }
      ]
    },
    {
      "cell_type": "markdown",
      "source": [
        "## Captura de usuario"
      ],
      "metadata": {
        "id": "79QxQx0NQKce"
      }
    },
    {
      "cell_type": "code",
      "source": [
        "captura = input('Cómo te llamas: ')"
      ],
      "metadata": {
        "colab": {
          "base_uri": "https://localhost:8080/"
        },
        "id": "Y1Cbcmq1QO60",
        "outputId": "f258bb53-d4ff-429c-d24b-6740e1ecbad0"
      },
      "execution_count": null,
      "outputs": [
        {
          "name": "stdout",
          "output_type": "stream",
          "text": [
            "Cómo te llamas: Sandra\n"
          ]
        }
      ]
    },
    {
      "cell_type": "code",
      "source": [
        "f'Hola {captura}'"
      ],
      "metadata": {
        "colab": {
          "base_uri": "https://localhost:8080/",
          "height": 36
        },
        "id": "xoFjn6K3QT1s",
        "outputId": "5241f480-b8de-44cf-d425-497893b9e81d"
      },
      "execution_count": null,
      "outputs": [
        {
          "output_type": "execute_result",
          "data": {
            "text/plain": [
              "'Hola Sandra'"
            ],
            "application/vnd.google.colaboratory.intrinsic+json": {
              "type": "string"
            }
          },
          "metadata": {},
          "execution_count": 103
        }
      ]
    },
    {
      "cell_type": "markdown",
      "source": [
        "## Librería [`math`](https://docs.python.org/3/library/math.html)"
      ],
      "metadata": {
        "id": "lkiY7vCdRc3F"
      }
    },
    {
      "cell_type": "code",
      "source": [
        "# Magia negra 🔮\n",
        "import math"
      ],
      "metadata": {
        "id": "2Tm3OUgZRp63"
      },
      "execution_count": null,
      "outputs": []
    },
    {
      "cell_type": "code",
      "source": [
        "math.inf > math.degrees(math.pi)"
      ],
      "metadata": {
        "colab": {
          "base_uri": "https://localhost:8080/"
        },
        "id": "UHSg5RrER2k4",
        "outputId": "bf7570ae-a2b6-4281-e45a-36b95e14f578"
      },
      "execution_count": null,
      "outputs": [
        {
          "output_type": "execute_result",
          "data": {
            "text/plain": [
              "True"
            ]
          },
          "metadata": {},
          "execution_count": 106
        }
      ]
    }
  ]
}